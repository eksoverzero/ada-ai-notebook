{
 "cells": [
  {
   "cell_type": "markdown",
   "id": "derived-paradise",
   "metadata": {},
   "source": [
    "# Sentiment Analysis\n",
    "\n",
    "\n"
   ]
  },
  {
   "cell_type": "markdown",
   "id": "decent-stability",
   "metadata": {},
   "source": [
    "Using [sentiment](https://github.com/thisandagain/sentiment), we will score words in sentences to try to establish if the sentence is a positive or negative one. \n",
    "\n",
    "Using the [AFINN-165](http://www2.imm.dtu.dk/pubdb/pubs/6010-full.html) database, a wordlist that has a positive or negative score atteched to certain words, a sentence can be evaluated for sentiment by combining the word scores."
   ]
  },
  {
   "cell_type": "code",
   "execution_count": null,
   "id": "distinct-force",
   "metadata": {},
   "outputs": [],
   "source": [
    "var Sentiment = require('sentiment');\n",
    "var sentiment = new Sentiment();\n",
    "var result = sentiment.analyze('Cats are stupid.');\n",
    "\n",
    "console.log(result);"
   ]
  },
  {
   "cell_type": "markdown",
   "id": "informed-customer",
   "metadata": {},
   "source": [
    "The statements have the ability to come off as neutral when the score is 0"
   ]
  },
  {
   "cell_type": "code",
   "execution_count": null,
   "id": "italian-florence",
   "metadata": {},
   "outputs": [],
   "source": [
    "var Sentiment = require('sentiment');\n",
    "var sentiment = new Sentiment();\n",
    "\n",
    "var positive = sentiment.analyze('I like cats.');\n",
    "var negative = sentiment.analyze('I like cats but I’m allergic to them.');\n",
    "\n",
    "console.log(positive);\n",
    "console.log(negative);"
   ]
  },
  {
   "cell_type": "markdown",
   "id": "instructional-papua",
   "metadata": {},
   "source": [
    "There are instances where informal language can return a false positive based on the a preceeding word. This is where single word analysis often fails. This is because a flat database or wordlist can only contain exceptions to words."
   ]
  },
  {
   "cell_type": "code",
   "execution_count": null,
   "id": "cellular-empty",
   "metadata": {},
   "outputs": [],
   "source": [
    "var Sentiment = require('sentiment');\n",
    "var sentiment = new Sentiment();\n",
    "\n",
    "var positive = sentiment.analyze('This is bad.');\n",
    "var negative = sentiment.analyze('This is not bad.');\n",
    "\n",
    "console.log(positive);\n",
    "console.log(negative);"
   ]
  },
  {
   "cell_type": "markdown",
   "id": "surface-order",
   "metadata": {},
   "source": [
    "This example is not really course safe, but it helps get the point across. The slides we have all use the previous positive and negative phrases"
   ]
  },
  {
   "cell_type": "code",
   "execution_count": null,
   "id": "frequent-coaching",
   "metadata": {},
   "outputs": [],
   "source": [
    "var Sentiment = require('sentiment');\n",
    "var sentiment = new Sentiment();\n",
    "\n",
    "var positive = sentiment.analyze('This is shit.');\n",
    "var negative = sentiment.analyze('This is the shit.');\n",
    "\n",
    "console.log(positive);\n",
    "console.log(negative);"
   ]
  },
  {
   "cell_type": "markdown",
   "id": "proprietary-roulette",
   "metadata": {},
   "source": [
    "This stand-alone algorithm allows passing of extra words and scores for us to try address the false positive"
   ]
  },
  {
   "cell_type": "code",
   "execution_count": null,
   "id": "ruled-correspondence",
   "metadata": {},
   "outputs": [],
   "source": [
    "var Sentiment = require('sentiment');\n",
    "var sentiment = new Sentiment();\n",
    "\n",
    "var options = {\n",
    "  extras: {\n",
    "    'the': 5\n",
    "  }\n",
    "};\n",
    "\n",
    "var positive = sentiment.analyze('This is shit.', options);\n",
    "var negative = sentiment.analyze('This is the shit.', options);\n",
    "\n",
    "console.log(positive);\n",
    "console.log(negative);"
   ]
  },
  {
   "cell_type": "markdown",
   "id": "integrated-hungary",
   "metadata": {},
   "source": [
    "This is not a viable option though because when specifying the additional score, we won't have the context"
   ]
  },
  {
   "cell_type": "markdown",
   "id": "irish-action",
   "metadata": {},
   "source": []
  }
 ],
 "metadata": {
  "kernelspec": {
   "display_name": "Javascript (Node.js)",
   "language": "javascript",
   "name": "javascript"
  },
  "language_info": {
   "file_extension": ".js",
   "mimetype": "application/javascript",
   "name": "javascript",
   "version": "15.11.0"
  }
 },
 "nbformat": 4,
 "nbformat_minor": 5
}
