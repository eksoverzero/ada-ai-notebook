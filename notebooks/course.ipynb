{
 "cells": [
  {
   "cell_type": "markdown",
   "id": "seasonal-short",
   "metadata": {},
   "source": [
    "# 1 - Introduction\n",
    "\n",
    "A.I, Artificial Intelligence, as we know if from Sci-Fi doesn’t exist yet. When the term A.I is used right now it’s more Algorithm Input. The Intelligence comes from the designer/developer. Even the leading A.I, in say self-driving cars, is still just data models and decision trees.\n",
    "\n",
    "In this course we will take a look at how algorithms can be used without machine learning and then how machine learning can be used without algorithms. We will find the shortcomings of using these two in isolation and then the benefits of combining the two."
   ]
  },
  {
   "cell_type": "markdown",
   "id": "broad-burning",
   "metadata": {},
   "source": [
    "## 1.1 - Course outcomes\n",
    "\n",
    "By the end of this course you should have a working knowledge of algorithms and machine learning and combine them into making a working A.I. We will work on some practical examples as we go while touching on the theory and terminology on what’s been worked on at that time.\n",
    "\n",
    "We will take a look at a few examples of algorithms and A.I in the wild as well as what services are available to build an A.I or services that are already fully built that you can just use in your application."
   ]
  },
  {
   "cell_type": "markdown",
   "id": "needed-profit",
   "metadata": {},
   "source": [
    "## 1.2 - Timetable\n",
    "\n",
    "| **Day 1**                                                | **Day 2**                            |\n",
    "| -------------------------------------------------------- | ------------------------------------ |\n",
    "| Introduction                                             | Machine Learning: Step-by-step       |\n",
    "| Jupyter Notebooks                                        |                                      |\n",
    "| Algorithms                                               |                                      |\n",
    "| Machine Learning: What is Machine Learning?              |                                      |\n",
    "|                                                          |                                      |\n",
    "| Exercise: Sentiment analysis in text                     | Exercise: Pulling text from images   |\n",
    "| Discussion: Existing algorithms and databases at Media24 | Discussion: A.I use cases at Media24 |"
   ]
  },
  {
   "cell_type": "markdown",
   "id": "renewable-gospel",
   "metadata": {},
   "source": [
    "## 1.3 - Exercises\n",
    "\n",
    "### 1.3.1 - Sentiment analysis in text\n",
    "\n",
    "This exercise will be done in JavaScript and will use a third-part code base to help introduce you to some of the terminology used in later sections.\n",
    "\n",
    "We will be analysing sentences to try identify it’s they are positive or negative. We will use the third-party code base to save ourselves from developing something from scratch and we will build on it to make it more useful in the real world. \n",
    "\n",
    "\n",
    "### 1.3.2 - Pulling text from images\n",
    "\n",
    "This exercise will be done in either JavaScript or Python, depending on your skillset, and will introduce you to A.I tools and frameworks.\n",
    "\n",
    "We will be generating our own data using publicly available fonts to build and training a system that can read text from images."
   ]
  },
  {
   "cell_type": "markdown",
   "id": "stuffed-syndication",
   "metadata": {},
   "source": [
    "## 1.4 - Your lecturers\n",
    "\n",
    "### 1.4.1 - Carl Binneman\n",
    "\n",
    "I have been working with object oriented programming for about 10 years, education for 8 years and machine learning for the past 5 years.\n",
    "I have mainly worked with interactive software on a variety of platforms, such as : games and websites for mobile/desktop in 2D, 3D, AR & VR\n",
    "\n",
    "### 1.4.2 - Steven Eksteen\n",
    "\n",
    "Steven has been in I.T for longer than he can remember. For the past few years I have been freelancing and consulting as a Solutions Architect and Research and Development."
   ]
  },
  {
   "cell_type": "markdown",
   "id": "humanitarian-junction",
   "metadata": {},
   "source": [
    "# 2 - Jupyter Notebooks\n",
    "\n",
    "Jupyter is widely used by almost every field that works with data or mathematics. It’s main benefit comes from integrating the runtime environment directly into an editor. This makes explaining complex ideas and examples easier without the need to jump between platforms to generate charts or run example code.\n",
    "\n",
    "\n",
    "## 2.1 - Using notebooks"
   ]
  },
  {
   "cell_type": "markdown",
   "id": "supreme-duncan",
   "metadata": {},
   "source": [
    "# 3 - Algorithms"
   ]
  },
  {
   "cell_type": "markdown",
   "id": "residential-latex",
   "metadata": {},
   "source": [
    "## 3.1 - What is an algorithm (in relation to Machine Learning)?\n",
    "\n",
    "Algorithms are often thought of as complex mathematical equations and sometimes they are. Most of them though, are basically just decision trees.\n",
    "\n",
    "Think of a self-driving car:\n",
    "\n",
    "- If there is a car in front of me, slow down\n",
    "- If there is no car in front of me and I’m below the speed limit, speed up\n",
    "- If there is something approaching in front of me, slow down\n",
    "\n",
    "The complex maths comes in where there are situations that need to be weighted, like [The Trolly Problem](https://en.wikipedia.org/wiki/Trolley_problem), as an extreme example.\n",
    "\n",
    "We will be looking at something simpler. Don’t let that statement ruin your ideas of making a self-driving car or facial recognition for the NSA after this course though. We will cover how to identify objects in images in the Machine Learning section. Self-driving cars would just require video analysis, which is basically just image analysis done very quickly."
   ]
  },
  {
   "cell_type": "markdown",
   "id": "lonely-williams",
   "metadata": {},
   "source": [
    "## 3.2 Stand-alone Algorithms"
   ]
  },
  {
   "cell_type": "markdown",
   "id": "smooth-guitar",
   "metadata": {},
   "source": [
    "## 3.3 - Practical use cases\n",
    "\n",
    "### 3.3.1 - Sentiment analysis in text\n",
    "\n"
   ]
  },
  {
   "cell_type": "markdown",
   "id": "attractive-massachusetts",
   "metadata": {},
   "source": [
    "# 4 - Machine Learning"
   ]
  },
  {
   "cell_type": "markdown",
   "id": "beneficial-timing",
   "metadata": {},
   "source": [
    "## 4.1 - What is Machine Learning?\n",
    "\n",
    "While the statement made earlier that Algorithms + Machine Learning = A.I is not entirely true, it still is. Machine Learning has built in algorithms. The algorithms we covered earlier are the ones that process data received back from the Machine Learning part of our A.I and combine it with other data to return sane results.\n",
    "\n",
    "The algorithms built into Machine Learning systems are there to help process raw data going into the system. There are many, many of these and they can sometimes cause the Machine Learning system to be very specific in its use. One example of this would be OCR (Optical Character Recognition). We will be using this in the exercise for this section and, as you’ll see, that even though it’s processing images, it’s processing them in a very specific way to accurately identify text.\n",
    "\n",
    "Besides OCR, you’ll find many, many other terms floating around that can make Machine Learning seem far more complicated than it is. Terms like Deep Learning and Neural Networks are the two that will pop up most often. Deep Learning in particular can sometimes be confusing because it’s often freely interchanged with Machine Learning. Deep Learning is technically a subset of Machine Learning. Where Machine Learning relies on a fixed dataset to make decisions and those decisions will always be made against that dataset. When an incorrect decision is made, manual intervention would be required to retrain that incorrect result.\n",
    "\n",
    "Deep Learning uses an initial data set to start making decisions, but has functions built in to keep improving itself. Deep Learning would be the one of the two that is most “human-like”. It’s the reason why Deep Learning is what is used when making A.Is that should have human attributes or perform human-like tasks. Siri, Alexa, Ok Google, these are all examples of Deep Learning. They teach themselves to understand your voice and accent over time.\n",
    "\n",
    "https://playground.tensorflow.org\n",
    "\n",
    "https://github.com/mapbox/pixelmatch"
   ]
  },
  {
   "cell_type": "markdown",
   "id": "veterinary-redhead",
   "metadata": {},
   "source": [
    "### 4.1.1 - Machine Learning vs Databases\n",
    "\n",
    "With all the talk so far about storing data, classifying data, etc, it might be easy to think “This sounds like something a database can do”. There are many instances where that would be correct."
   ]
  },
  {
   "cell_type": "markdown",
   "id": "featured-maria",
   "metadata": {},
   "source": [
    "#### 4.1.1.1 - Recommendation lists\n",
    "\n",
    "Many e-commerce sites like Takealot and Amazon, media sites YouTube and Netflix and many other examples, often use recommendations to direct users to new items and content. It may seem as though the system is learning about you, but this is generally just algorithms using mostly analytics data.\n",
    "\n",
    "Elastic (Previous ElasticSearch) is a popular search engine that enables product data, for example, to be added and classified, weighted and then searched. Each search a certain user makes can be logged and then products suggested based on those searches.\n",
    "\n",
    "Extending with more data and algorithms:\n",
    "\n",
    "By linking the data from searches with data from analytics, the recommendations can be made more accurate by including products in the same category of items they have previously bought or maybe added to a wishlist.\n",
    "\n",
    "Extending with Machine Learning:\n",
    "\n",
    "Most e-commerce platforms will probably manually start showing adverts during certain times of the year for Christmas, Black Friday, etc. By using sales data with Machine Learning buying trends could be presented to advertisers for the best times to advertise certain products or brands."
   ]
  },
  {
   "cell_type": "markdown",
   "id": "inappropriate-brain",
   "metadata": {},
   "source": [
    "#### 4.1.1.2 - Trending lists\n",
    "\n",
    "Social media sites like Twitter and Facebook and News sites like News24 use trending lists to show users popular posts and articles. In the most basic form these are examples of [Map-Reduce](https://en.wikipedia.org/wiki/MapReduce) functions in databases. The most common use of these functions would be in things like game leader-boards and analytics when aggregating metrics for charts.\n",
    "\n",
    "In a trending list the total views of a post or article will be reduced and the highest view numbers in the last 24 hours will be shown as the top trending.\n",
    "\n",
    "Extending with more data and algorithms:\n",
    "\n",
    "By using more analytics data, the map-reduce functions could include user data and create user based trending lists.\n",
    "\n",
    "Extending with Machine Learning:\n",
    "\n",
    "Machine Learning has been used extensively for time-series data predictions. Everything from stocks to server monitoring. Analytics, even though there is a lot of tagged context, is time-series data. Using Machine Learning and NLP, which we spoke about earlier, we can identify subjects, places, etc of posts and articles that have previously trended to predict which articles might trend next."
   ]
  },
  {
   "cell_type": "markdown",
   "id": "original-creek",
   "metadata": {},
   "source": [
    "### 4.1.2 - Discussion: Machine Learning vs Databases\n",
    "\n",
    "Other examples of where Machine Learning is used to build upon features of databases."
   ]
  },
  {
   "cell_type": "markdown",
   "id": "greater-emphasis",
   "metadata": {},
   "source": [
    "## 4.2 - Creating a Machine Learning framework\n",
    "\n",
    "As with almost every choice of technology in engineering, choosing the correct type of Machine Learning is essential. We will see in the OCR exercises how one short term choice to achieve an immediate goal might hinder the overall project.\n",
    "\n",
    "https://blog.statsbot.co/neural-networks-for-beginners-d99f2235efca\n",
    "\n",
    "https://ivrlwww.epfl.ch/research/topics/text_reading.html\n",
    "\n",
    "[https://www.analyticsvidhya.com/blog/2020/04/build-your-own-object-detection-model-using-tensorflow-api/](https://www.analyticsvidhya.com/blog/2020/04/build-your-own-object-detection-model-using-tensorflow-api/?utm_source=blog&utm_medium=build-your-own-ocr-google-tesseract-opencv)\n",
    "\n",
    "https://towardsdatascience.com/a-gentle-introduction-to-ocr-ee1469a201aa\n",
    "\n",
    "https://matthewearl.github.io/2016/05/06/cnn-anpr/"
   ]
  },
  {
   "cell_type": "markdown",
   "id": "aquatic-glossary",
   "metadata": {},
   "source": [
    "### 4.2.1 - Data\n",
    "\n",
    "Topics covered in Carl’s “Data” section\n",
    "\n",
    "https://github.com/tkrkt/text2png\n",
    "\n",
    "https://github.com/ankush-me/SynthText\n",
    "\n",
    "https://github.com/matthewearl/deep-anpr\n",
    "\n",
    "https://github.com/udacity/self-driving-car/tree/master/annotations"
   ]
  },
  {
   "cell_type": "markdown",
   "id": "former-minimum",
   "metadata": {},
   "source": [
    "### 4.2.2 - Training\n",
    "\n",
    "Topics covered Carl’s “Networks + Training” section\n",
    "\n",
    "https://supervise.ly/product"
   ]
  },
  {
   "cell_type": "markdown",
   "id": "imposed-basics",
   "metadata": {},
   "source": [
    "### 4.2.3 - Verification\n",
    "\n"
   ]
  },
  {
   "cell_type": "markdown",
   "id": "french-advancement",
   "metadata": {},
   "source": [
    "## 4.3 - Practical use cases\n",
    "\n",
    "\n"
   ]
  },
  {
   "cell_type": "markdown",
   "id": "uniform-symphony",
   "metadata": {},
   "source": [
    "### 4.3.1 - Google’s Captcha\n",
    "\n",
    "\n"
   ]
  },
  {
   "cell_type": "markdown",
   "id": "grateful-dependence",
   "metadata": {},
   "source": [
    "### 4.3.2 - Pulling text from images\n",
    "\n",
    "https://github.com/tkrkt/text2png\n",
    "\n",
    "https://github.com/ankush-me/SynthText\n",
    "\n",
    "\n",
    "\n",
    "\n",
    "\n",
    "https://github.com/matthewearl/deep-anpr\n"
   ]
  },
  {
   "cell_type": "markdown",
   "id": "rural-legislation",
   "metadata": {},
   "source": [
    "## 4.4 - Capabilities and limits\n",
    "\n",
    "Topics covered in Carl’s “Knowing what ML can do” section"
   ]
  },
  {
   "cell_type": "markdown",
   "id": "harmful-inspection",
   "metadata": {},
   "source": [
    "## 4.5 - Machine learning and Big Data\n",
    "\n",
    "When we spoke about Machine Learning vs Databases (4.1.1) we covered two examples on where Machine Learning could be used to extend databases. When searching around the internet you’ll find this to be the most covered topic in the tutorials you find. These are generally predictive models. The one thing you need for predictions is a lot of data.\n",
    "\n",
    "Big Data is rarely ever just a large collection of the same type of data and the strength of Big Data platforms is in their ability to process data as it comes in rather than processing large chunks of data at scheduled intervals. "
   ]
  },
  {
   "cell_type": "markdown",
   "id": "novel-notebook",
   "metadata": {},
   "source": [
    "# 5 - Linking it all together\n",
    "\n",
    "**Feature engineering**"
   ]
  },
  {
   "cell_type": "markdown",
   "id": "divine-contents",
   "metadata": {},
   "source": [
    "# 6 - Discussion: How you can use A.I\n",
    "\n",
    "https://quickdraw.withgoogle.com/#"
   ]
  },
  {
   "cell_type": "code",
   "execution_count": null,
   "id": "advance-punch",
   "metadata": {},
   "outputs": [],
   "source": []
  }
 ],
 "metadata": {
  "kernelspec": {
   "display_name": "Javascript (Node.js)",
   "language": "javascript",
   "name": "javascript"
  },
  "language_info": {
   "file_extension": ".js",
   "mimetype": "application/javascript",
   "name": "javascript",
   "version": "15.11.0"
  }
 },
 "nbformat": 4,
 "nbformat_minor": 5
}
